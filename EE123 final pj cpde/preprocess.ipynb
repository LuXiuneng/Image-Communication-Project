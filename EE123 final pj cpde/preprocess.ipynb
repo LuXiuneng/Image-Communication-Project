{
 "cells": [
  {
   "cell_type": "markdown",
   "metadata": {},
   "source": [
    "# Preprocess and Coding\n",
    "\n",
    "### How to run: \n",
    "### 1.The last two cells are for preprocessing and generation of a gz file, which is to be transmitted. The latter cell is run to generate processed image and return an processed image in another window as feedback. The former cell will further process and encode the image into a compressed gz file.\n",
    "### 2.Before running, we have 3 parameters to set: the 'threshold' in line 8/9 of 'predict' function and 'bytize' function(which are the last two function), and the 'downsize' in the former implementation cell. They are to be set properly to make sure gz file is small enough to be transmitted.\n",
    "### Value for references:\n",
    "### Marconi.bmp: threshold=0.5     downsize=2  PSNR=25.21\n",
    "### createrLake.bmp: threshold=0.7 downsize=2  PSNR=22.24\n",
    "### pauly.bmp: threshold=1.5 downsize=2  PSNR=11.08\n",
    "### Isee.bmp: threshold=0.1 downsize=1  PSNR=17.43\n",
    "### calBlue.bmp: directly transmitting, no need to encode. PSNR=inf\n",
    "### --------------------------------------------------------------------------------------------\n",
    "### Values used in competition:\n",
    "### EE_test.tiff: threshold=0 downsize=1 PSNR= 8.57\n",
    "### mid_test.tiff: threshold=0.2 downsize=2 PSNR=17.25\n",
    "\n",
    "### 3. After setting the parameters, just run through and there will be a file named 'test.bnr.gz' generated in the directory folder. Please upload the .gz file to rasperry pi and go on runnning 'transmitter.ipynb'"
   ]
  },
  {
   "cell_type": "code",
   "execution_count": 40,
   "metadata": {
    "collapsed": true
   },
   "outputs": [],
   "source": [
    "import numpy as np\n",
    "import math\n",
    "import array\n",
    "import bitarray\n",
    "import matplotlib.pyplot as plt\n",
    "from bitarray import bitarray\n",
    "from array import *\n",
    "from array import array\n",
    "import cv2\n",
    "from numpy import *\n",
    "from math import *\n",
    "import array\n",
    "from array import array\n",
    "import scipy\n",
    "from scipy import signal\n",
    "from numpy.fft import *\n",
    "import gzip"
   ]
  },
  {
   "cell_type": "code",
   "execution_count": 3,
   "metadata": {
    "collapsed": true
   },
   "outputs": [],
   "source": [
    "def quantize2(maxi,n):\n",
    "    p_lv=26\n",
    "    n_lv=15\n",
    "    if n>0:\n",
    "        lv=n/maxi*p_lv\n",
    "        return ceil(lv)\n",
    "    else:\n",
    "        if n<0:\n",
    "            lv=n/maxi*n_lv\n",
    "            if lv<-6:\n",
    "                lv=-5\n",
    "            return ceil(lv)\n",
    "        else:\n",
    "            return 0"
   ]
  },
  {
   "cell_type": "code",
   "execution_count": 4,
   "metadata": {
    "collapsed": true
   },
   "outputs": [],
   "source": [
    "def dequantize2(maxi,lv):\n",
    "    p_lv=26\n",
    "    n_lv=15\n",
    "    if lv>0:\n",
    "        return (lv-0.5)/p_lv*maxi\n",
    "    else:\n",
    "        if lv<=0:\n",
    "            return (lv-0.5)/n_lv*maxi"
   ]
  },
  {
   "cell_type": "code",
   "execution_count": 5,
   "metadata": {
    "collapsed": true
   },
   "outputs": [],
   "source": [
    "def str2byte(string):\n",
    "    import array\n",
    "    from array import array\n",
    "    bin_array = array(\"B\")\n",
    "    #bin_array=[]\n",
    "    length = int(len(string)//8)\n",
    "    for i in range (0, length):\n",
    "        byte = string[8*i:8*(i+1)]\n",
    "        bin_array.append(int(byte,2))\n",
    "        i = i+1\n",
    "    return bin_array"
   ]
  },
  {
   "cell_type": "code",
   "execution_count": 6,
   "metadata": {
    "collapsed": true
   },
   "outputs": [],
   "source": [
    "def dezigzag(L):\n",
    "    #L = np.array([1,4,2,7,5,3,8,6,9])\n",
    "    #L = np.array([1,5,2,9,6,3,13,10,7,4,14,11,8,15,12,16])\n",
    "    n = np.sqrt(len(L))\n",
    "    n = int(n)\n",
    "    a = -1/2\n",
    "    b = 2*n-1/2\n",
    "    c = n-n*n\n",
    "    \n",
    "    M = []\n",
    "    for i in range(1,n+1):\n",
    "        for j in range(1,n+1):\n",
    "            p = i+j-2\n",
    "            if p <= n:\n",
    "                q = 1/2*p*p+1/2*p\n",
    "            else:\n",
    "                q = a*p*p+b*p+c\n",
    "            q = int(q)\n",
    "            M.append(L[q+j-1-max(0,i+j-1-n)])\n",
    "            j = j+1\n",
    "        i = i+1\n",
    "    \n",
    "    M_old = np.reshape(M,(n,n))\n",
    "    return M_old"
   ]
  },
  {
   "cell_type": "code",
   "execution_count": 7,
   "metadata": {
    "collapsed": true
   },
   "outputs": [],
   "source": [
    "def zigzag(win):\n",
    "    [a,b]=win.shape\n",
    "    n = a #array size \n",
    "    arr = [] \n",
    "    for i in range(2,2*n+1):  \n",
    "        for j in range (max(1,i-n),min(i-1,n)+1): \n",
    "            arr.append(win[i-j-1,j-1]) \n",
    "            j = j+1 \n",
    "        i = i+1 \n",
    "    return arr  "
   ]
  },
  {
   "cell_type": "code",
   "execution_count": 8,
   "metadata": {
    "collapsed": true
   },
   "outputs": [],
   "source": [
    "def dec2binstr2(number,digit=6):\n",
    "    return str(bin(number+5+32))[2:].zfill(digit)"
   ]
  },
  {
   "cell_type": "code",
   "execution_count": 9,
   "metadata": {
    "collapsed": true
   },
   "outputs": [],
   "source": [
    "def dec2binstr(number,digit=4):\n",
    "    return str(bin(number))[2:].zfill(digit)"
   ]
  },
  {
   "cell_type": "code",
   "execution_count": 10,
   "metadata": {
    "collapsed": true
   },
   "outputs": [],
   "source": [
    "def binstr2dec2(arr,digit=6):\n",
    "    if arr=='0': return 0\n",
    "    else: \n",
    "        return (int(arr,2)-32-5)"
   ]
  },
  {
   "cell_type": "code",
   "execution_count": 11,
   "metadata": {
    "collapsed": true
   },
   "outputs": [],
   "source": [
    "def downsample(img,downsize=2):\n",
    "    winsz=8*downsize\n",
    "    ox,oy,c=img.shape\n",
    "\n",
    "    s_x=int(ceil(ox/winsz))\n",
    "    s_y=int(ceil(oy/winsz))\n",
    "    x=s_x*winsz\n",
    "    y=s_y*winsz\n",
    "\n",
    "    img=pad(img,((0,x-ox),(0,y-oy),(0,0)),'constant')\n",
    "    x_d=x//downsize\n",
    "    y_d=y//downsize\n",
    "    img_d=zeros([x_d,y_d,3])\n",
    "    for i in range(0,x_d):\n",
    "        for j in range(y_d):\n",
    "            img_d[i,j]=img[i*downsize,j*downsize]\n",
    "\n",
    "    return uint8(img_d)"
   ]
  },
  {
   "cell_type": "code",
   "execution_count": 12,
   "metadata": {
    "collapsed": true
   },
   "outputs": [],
   "source": [
    "def upsample(img,ox,oy):\n",
    "    img_f=fftshift(fft2(img))\n",
    "    print('original shape is',ox,oy)\n",
    "    x,y=img_f.shape\n",
    "    print('shape now is',x,y)\n",
    "    print(ox-(ox-x)//2)\n",
    "    img_f=pad(img_f,(((ox-x)//2,ox-x-(ox-x)//2),((oy-y)//2,oy-y-(oy-y)//2)),'constant')\n",
    "    print('shape of FFT after extension is',img_f.shape)\n",
    "    op=ifft2(ifftshift(img_f))\n",
    "    print('shape of iFFT is',op.shape)\n",
    "    op=op/op.max()*255\n",
    "    return uint8(abs(op))"
   ]
  },
  {
   "cell_type": "code",
   "execution_count": 13,
   "metadata": {
    "collapsed": true
   },
   "outputs": [],
   "source": [
    "def readfrombnr(filename):\n",
    "    with open(filename,\"rb\") as f:\n",
    "        block = f.read()\n",
    "        string = []\n",
    "        for i in range(0,len(block)):\n",
    "            string.append(dec2binstr(block[i],8))\n",
    "            i = i+1\n",
    "    f.close()\n",
    "    string = \"\".join(string)\n",
    "    return string"
   ]
  },
  {
   "cell_type": "code",
   "execution_count": 14,
   "metadata": {
    "collapsed": true
   },
   "outputs": [],
   "source": [
    "def writetobnr(msg,filename):\n",
    "    #msg is a string contains only \"0\" & \"1\"\n",
    "    increment = 8-len(msg)%8\n",
    "    if increment ==8:\n",
    "        increment = 0\n",
    "    for i in range(0,increment):\n",
    "        msg = msg + \"0\"\n",
    "        i = i+1\n",
    "    bytes_n = len(msg)//8\n",
    "    bin_array = array(\"B\")\n",
    "    for j in range (0,bytes_n):\n",
    "        Byte = msg[j*8:j*8+8]\n",
    "        bin_array.append(int(Byte,2))\n",
    "        j = j+1\n",
    "    f = open(filename,\"wb\")\n",
    "    f.write(bytes(bin_array))\n",
    "    f.close()"
   ]
  },
  {
   "cell_type": "code",
   "execution_count": 15,
   "metadata": {
    "collapsed": true
   },
   "outputs": [],
   "source": [
    "def bnr2gzip(fname):\n",
    "    with open(fname, 'rb') as f_in:\n",
    "        with gzip.open(fname+\".gz\", 'wb') as f_out:\n",
    "            f_out.writelines(f_in)\n",
    "    f_in.close()\n",
    "    f_out.close()"
   ]
  },
  {
   "cell_type": "code",
   "execution_count": 90,
   "metadata": {
    "collapsed": true,
    "scrolled": false
   },
   "outputs": [],
   "source": [
    "def predict(img):    \n",
    "    #Read the image and float it\n",
    "    img=float32(img)/255.0\n",
    "\n",
    "    #Get the original length and window size\n",
    "    ox,oy=img.shape\n",
    "    winsz=8\n",
    "    threshold=0.2 #for large images\n",
    "    #threshold=0 #for small images\n",
    "    digit=4\n",
    "\n",
    "    #Padding the array and set up a void array\n",
    "    s_x=int(ceil(ox/winsz))\n",
    "    s_y=int(ceil(oy/winsz))\n",
    "    x=s_x*winsz\n",
    "    y=s_y*winsz\n",
    "\n",
    "    img_dct=zeros((x,y))\n",
    "    img_idct=zeros((x,y))\n",
    "    img=pad(img,((0,x-ox),(0,y-oy)),'constant')\n",
    "\n",
    "    #DCT\n",
    "    for i in range(0,s_x):\n",
    "        for j in range(0,s_y):\n",
    "            img_dct[i*winsz:(i+1)*winsz,j*winsz:(j+1)*winsz]=cv2.dct(img[i*winsz:(i+1)*winsz,j*winsz:(j+1)*winsz])\n",
    "\n",
    "    #Threshold\n",
    "    o=img_dct\n",
    "    temp=abs(img_dct)\n",
    "    maxk=temp.max()\n",
    "    img_dct=img_dct/maxk*32.0\n",
    "    mask=abs(img_dct)>threshold\n",
    "    img_dct=multiply(img_dct,mask)\n",
    "    img_dct=img_dct/32.0*maxk\n",
    "    print(mask.shape)\n",
    "    print(sum(mask))\n",
    "\n",
    "    #set the coefficients after the first zero as zero\n",
    "    s_0=0\n",
    "    bitarr = \"\"\n",
    "    for i in range(0,s_x):\n",
    "        for j in range(0,s_y):\n",
    "            temp=img_dct[i*winsz:(i+1)*winsz,j*winsz:(j+1)*winsz]\n",
    "            temp_z=zigzag(temp)\n",
    "            flag=False\n",
    "            for k in range(0, len(temp_z)):\n",
    "                if temp_z[k]==0:\n",
    "                    flag=True\n",
    "                if flag:\n",
    "                    temp_z[k]=0\n",
    "                else:\n",
    "                    temp_z[k]=dequantize2(maxk,quantize2(maxk,temp_z[k]))\n",
    "                    s_0+=1\n",
    "            temp=dezigzag(temp_z)\n",
    "            img_dct[i*winsz:(i+1)*winsz,j*winsz:(j+1)*winsz]=temp\n",
    "    mask=abs(img_dct)>0\n",
    "    print(sum(mask))\n",
    "    print(s_0)\n",
    "    #IDCT\n",
    "    for i in range(0,s_x):\n",
    "        for j in range(0,s_y):\n",
    "            img_idct[i*winsz:(i+1)*winsz,j*winsz:(j+1)*winsz]=cv2.idct(img_dct[i*winsz:(i+1)*winsz,j*winsz:(j+1)*winsz])\n",
    "\n",
    "    img_idct=img_idct*255\n",
    "    img_idct=uint8(img_idct)\n",
    "    med=scipy.signal.medfilt2d(img_idct,7)\n",
    "\n",
    "    #Gussian Lowpass Filter\n",
    "    freq=fftshift(fft2(med))\n",
    "    fsz=freq.shape\n",
    "    filt=zeros([fsz[0],fsz[1]])\n",
    "\n",
    "    D=60\n",
    "    for i in range(0,fsz[0]):\n",
    "        for j in range(0,fsz[1]):\n",
    "            filt[i,j]=exp(-(pow((i-fsz[0]//2),2)+pow(j-fsz[1]//2,2))/(2*pow(D,2)))\n",
    "\n",
    "    freq2=multiply(freq,filt)\n",
    "    img2=ifft2(freq2)\n",
    "\n",
    "    #Iterative deconvolution\n",
    "    temp=uint8(abs(img2))\n",
    "    img2=scipy.signal.wiener(float64(temp))\n",
    "    \n",
    "    return uint8(abs(img2))"
   ]
  },
  {
   "cell_type": "code",
   "execution_count": 91,
   "metadata": {
    "collapsed": true
   },
   "outputs": [],
   "source": [
    "def bytize(img):\n",
    "    #Read the image and float it\n",
    "    img=float32(img)/255.0\n",
    "\n",
    "    #Get the original length and window size\n",
    "    ox,oy=img.shape\n",
    "    winsz=8\n",
    "    threshold=0.2 #for large images\n",
    "    #threshold=0 #for small images\n",
    "    digit=4\n",
    "\n",
    "    #Padding the array and set up a void array\n",
    "    s_x=int(ceil(ox/winsz))\n",
    "    s_y=int(ceil(oy/winsz))\n",
    "    x=s_x*winsz\n",
    "    y=s_y*winsz\n",
    "\n",
    "    img_dct=zeros((x,y))\n",
    "    img_idct=zeros((x,y))\n",
    "    img=pad(img,((0,x-ox),(0,y-oy)),'constant')\n",
    "\n",
    "    #DCT\n",
    "    for i in range(0,s_x):\n",
    "        for j in range(0,s_y):\n",
    "            img_dct[i*winsz:(i+1)*winsz,j*winsz:(j+1)*winsz]=cv2.dct(img[i*winsz:(i+1)*winsz,j*winsz:(j+1)*winsz])\n",
    "\n",
    "    #Threshold\n",
    "    o=img_dct\n",
    "    temp=abs(img_dct)\n",
    "    maxk=temp.max()\n",
    "    img_dct=img_dct/maxk*32.0\n",
    "    mask=abs(img_dct)>threshold\n",
    "    img_dct=multiply(img_dct,mask)\n",
    "    img_dct=img_dct/32.0*maxk\n",
    "    print(mask.shape)\n",
    "    print(sum(mask))\n",
    "\n",
    "    #set the coefficients after the first zero as zero\n",
    "    s_0=0\n",
    "    bitarr = \"\"\n",
    "    winnum=0\n",
    "    for i in range(0,s_x):\n",
    "        for j in range(0,s_y):\n",
    "            temp=img_dct[i*winsz:(i+1)*winsz,j*winsz:(j+1)*winsz]\n",
    "            temp_z=zigzag(temp)\n",
    "            flag=False\n",
    "            for k in range(0, len(temp_z)):\n",
    "                #print('coefficient number=',s_0)\n",
    "                #print('win number=',winnum)\n",
    "                #print('length of birarray',len(bitarr))\n",
    "                #if (len(bitarr)-6*s_0-winnum==0): print('correct')\n",
    "                if k==len(temp_z)-1:\n",
    "                    temp_z[k]=0\n",
    "                if temp_z[k]==0:\n",
    "                    flag=True\n",
    "                    bitarr=bitarr+'0'\n",
    "                    #winnum+=1\n",
    "                    #print('coefficient=0,index+1',len(bitarr))\n",
    "                    #print('winnum+1',winnum)\n",
    "                    break\n",
    "                else:\n",
    "                    bitarr=bitarr+dec2binstr2(quantize2(maxk,temp_z[k]),6)\n",
    "                    #print('coefficient=',quantize2(maxk,temp_z[k]))\n",
    "                    #print('coefficient~=0,index+6',len(bitarr))\n",
    "                    s_0=s_0+1\n",
    "                    #print('number of coefficient+1',s_0)\n",
    "            temp=dezigzag(temp_z)\n",
    "            img_dct[i*winsz:(i+1)*winsz,j*winsz:(j+1)*winsz]=temp\n",
    "    print(s_0)\n",
    "    return bitarr,maxk"
   ]
  },
  {
   "cell_type": "code",
   "execution_count": 92,
   "metadata": {},
   "outputs": [
    {
     "name": "stdout",
     "output_type": "stream",
     "text": [
      "(346, 768, 3)\n",
      "(176, 384)\n",
      "16925\n",
      "4241\n",
      "4241\n"
     ]
    },
    {
     "name": "stderr",
     "output_type": "stream",
     "text": [
      "C:\\ProgramData\\Anaconda3\\lib\\site-packages\\scipy\\signal\\signaltools.py:950: RuntimeWarning: divide by zero encountered in true_divide\n",
      "  res *= (1 - noise / lVar)\n",
      "C:\\ProgramData\\Anaconda3\\lib\\site-packages\\scipy\\signal\\signaltools.py:950: RuntimeWarning: invalid value encountered in multiply\n",
      "  res *= (1 - noise / lVar)\n"
     ]
    },
    {
     "name": "stdout",
     "output_type": "stream",
     "text": [
      "(176, 384)\n",
      "18221\n",
      "4420\n",
      "4420\n",
      "(176, 384)\n",
      "19025\n",
      "4555\n",
      "4555\n"
     ]
    },
    {
     "data": {
      "image/png": "[encoded data removed]",
      "text/plain": [
       "<matplotlib.figure.Figure at 0xbf14ef0>"
      ]
     },
     "metadata": {},
     "output_type": "display_data"
    }
   ],
   "source": [
    "#The former implementation cell\n",
    "#Read an image, preprocessing it and return its feedback\n",
    "\n",
    "img=cv2.imread('mid_test.tiff',1)\n",
    "print(img.shape)\n",
    "downsize=2 #for large images\n",
    "#downsize=1 #for small images\n",
    "\n",
    "winsz=8\n",
    "ox,oy,c=img.shape\n",
    "\n",
    "img=downsample(img,downsize)\n",
    "x,y,c=img.shape\n",
    "\n",
    "#s_x=int(ceil(ox/winsz))\n",
    "#s_y=int(ceil(oy/winsz))\n",
    "#x=s_x*winsz\n",
    "#y=s_y*winsz\n",
    "\n",
    "height=x\n",
    "width=y\n",
    "img2=zeros([x,y,c])\n",
    "img_R=img[:,:,0]\n",
    "img_G=img[:,:,1]\n",
    "img_B=img[:,:,2]\n",
    "\n",
    "img_R2=predict(img_R)\n",
    "img_G2=predict(img_G)\n",
    "img_B2=predict(img_B)\n",
    "img2[:,:,0]=img_R2\n",
    "img2[:,:,1]=img_G2\n",
    "img2[:,:,2]=img_B2\n",
    "pltimg=plt.imshow(cv2.cvtColor(uint8(img2), cv2.COLOR_BGR2RGB))\n",
    "plt.show()\n"
   ]
  },
  {
   "cell_type": "code",
   "execution_count": 93,
   "metadata": {
    "scrolled": true
   },
   "outputs": [
    {
     "name": "stdout",
     "output_type": "stream",
     "text": [
      "(176, 384)\n",
      "16925\n",
      "4241\n",
      "26502\n",
      "(176, 384)\n",
      "18221\n",
      "4420\n",
      "27576\n",
      "(176, 384)\n",
      "19025\n",
      "4555\n",
      "28386\n"
     ]
    }
   ],
   "source": [
    "#The latter implementation cell\n",
    "#Further coding the image into test.bnr.gz file\n",
    "\n",
    "hstr=dec2binstr(height,11)\n",
    "wstr=dec2binstr(width,11)\n",
    "oxstr=dec2binstr(ox,11)\n",
    "oystr=dec2binstr(oy,11)\n",
    "\n",
    "strR,maxR=bytize(img_R)\n",
    "print(len(strR))\n",
    "strG,maxG=bytize(img_G)\n",
    "print(len(strG))\n",
    "strB,maxB=bytize(img_B)\n",
    "print(len(strB))\n",
    "\n",
    "strmaxR=dec2binstr(int(floor(maxR*1000)),13)\n",
    "strmaxG=dec2binstr(int(floor(maxG*1000)),13)\n",
    "strmaxB=dec2binstr(int(floor(maxB*1000)),13)\n",
    "\n",
    "arr=oxstr+oystr+hstr+wstr+strmaxR+strR+strmaxG+strG+strmaxB+strB\n",
    "writetobnr(arr,\"test.bnr\")\n",
    "bnr2gzip(\"test.bnr\")"
   ]
  },
  {
   "cell_type": "code",
   "execution_count": null,
   "metadata": {
    "collapsed": true
   },
   "outputs": [],
   "source": []
  }
 ],
 "metadata": {
  "kernelspec": {
   "display_name": "Python 3",
   "language": "python",
   "name": "python3"
  },
  "language_info": {
   "codemirror_mode": {
    "name": "ipython",
    "version": 3
   },
   "file_extension": ".py",
   "mimetype": "text/x-python",
   "name": "python",
   "nbconvert_exporter": "python",
   "pygments_lexer": "ipython3",
   "version": "3.6.3"
  }
 },
 "nbformat": 4,
 "nbformat_minor": 2
}
